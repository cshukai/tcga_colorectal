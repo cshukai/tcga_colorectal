{
 "cells": [
  {
   "cell_type": "code",
   "execution_count": 48,
   "metadata": {},
   "outputs": [],
   "source": [
    "library(ggplot2)\n",
    "library(plotly)\n",
    "d=read.csv(\"COAD_clinical_drug.csv\",header=T)\n"
   ]
  },
  {
   "cell_type": "code",
   "execution_count": 49,
   "metadata": {},
   "outputs": [
    {
     "data": {
      "text/plain": [
       "\n",
       "        g/day     mg mg/day  mg/kg  mg/m2     ug \n",
       "    39      1    274      1      2      9      1 "
      ]
     },
     "metadata": {},
     "output_type": "display_data"
    }
   ],
   "source": [
    "table(d1[,\"total_dose_units\"]) \n",
    "#1 unknow , normalize 4th & 5th , essential for distance/gradient based algorithm\n"
   ]
  },
  {
   "cell_type": "code",
   "execution_count": 50,
   "metadata": {},
   "outputs": [
    {
     "data": {
      "text/html": [
       "154"
      ],
      "text/latex": [
       "154"
      ],
      "text/markdown": [
       "154"
      ],
      "text/plain": [
       "[1] 154"
      ]
     },
     "metadata": {},
     "output_type": "display_data"
    },
    {
     "data": {
      "text/html": [
       "69"
      ],
      "text/latex": [
       "69"
      ],
      "text/markdown": [
       "69"
      ],
      "text/plain": [
       "[1] 69"
      ]
     },
     "metadata": {},
     "output_type": "display_data"
    },
    {
     "data": {
      "text/html": [
       "58"
      ],
      "text/latex": [
       "58"
      ],
      "text/markdown": [
       "58"
      ],
      "text/plain": [
       "[1] 58"
      ]
     },
     "metadata": {},
     "output_type": "display_data"
    }
   ],
   "source": [
    "# count the number of “cycles” or doses the patient got of each medication.\n",
    "\n",
    "d1=d[-which(d[,\"number_cycles\"]==\"\"),]  # patietns with dosage &cycle info\n",
    "d2=d1[-which(d1[,\"total_dose\"]==\"\"),] # look for patietns with dosage info first\n",
    "length(unique(d[,\"bcr_patient_barcode\"])) # assuming 1-1 mapping\n",
    "length(unique(d1[,\"bcr_patient_barcode\"]))\n",
    "length(unique(d2[,\"bcr_patient_barcode\"]))\n"
   ]
  },
  {
   "cell_type": "code",
   "execution_count": 51,
   "metadata": {},
   "outputs": [
    {
     "data": {
      "text/html": [
       "<table>\n",
       "<thead><tr><th></th><th scope=col>total_dose</th><th scope=col>total_dose_units</th><th scope=col>prescribed_dose</th><th scope=col>prescribed_dose_units</th><th scope=col>number_cycles</th></tr></thead>\n",
       "<tbody>\n",
       "\t<tr><th scope=row>3</th><td>7185   </td><td>mg     </td><td>450-735</td><td>mg     </td><td>12     </td></tr>\n",
       "</tbody>\n",
       "</table>\n"
      ],
      "text/latex": [
       "\\begin{tabular}{r|lllll}\n",
       "  & total\\_dose & total\\_dose\\_units & prescribed\\_dose & prescribed\\_dose\\_units & number\\_cycles\\\\\n",
       "\\hline\n",
       "\t3 & 7185    & mg      & 450-735 & mg      & 12     \\\\\n",
       "\\end{tabular}\n"
      ],
      "text/markdown": [
       "\n",
       "| <!--/--> | total_dose | total_dose_units | prescribed_dose | prescribed_dose_units | number_cycles |\n",
       "|---|---|---|---|---|---|\n",
       "| 3 | 7185    | mg      | 450-735 | mg      | 12      |\n",
       "\n"
      ],
      "text/plain": [
       "  total_dose total_dose_units prescribed_dose prescribed_dose_units\n",
       "3 7185       mg               450-735         mg                   \n",
       "  number_cycles\n",
       "3 12           "
      ]
     },
     "metadata": {},
     "output_type": "display_data"
    },
    {
     "data": {
      "text/html": [
       "598.75"
      ],
      "text/latex": [
       "598.75"
      ],
      "text/markdown": [
       "598.75"
      ],
      "text/plain": [
       "[1] 598.75"
      ]
     },
     "metadata": {},
     "output_type": "display_data"
    }
   ],
   "source": [
    "#We can then also count the number of appropriate doses the patient’s got. Ie, did they get the dose they should have gotten.\n",
    "d[3,c(\"total_dose\",\"total_dose_units\",\"prescribed_dose\",\"prescribed_dose_units\",\"number_cycles\")]\n",
    "# prescribed dose can be range or a single number\n",
    "7185/12\n"
   ]
  },
  {
   "cell_type": "code",
   "execution_count": 60,
   "metadata": {},
   "outputs": [],
   "source": [
    "#d2=d2[-which(d2[\"prescribed_dose\"]==\"\"),]\n",
    "\n",
    "for(i in nrow(d2)){\n",
    "    #print(d2[i,\"total_dose_units\"])\n",
    "    #print(d2[i,\"prescribed_dose_units\"])\n",
    "\n",
    "    temp=unlist(strsplit(x=as.character(d2[i,\"prescribed_dose\"]),split=\"-\"))\n",
    "    if(length(temp)==0){\n",
    "        min_i=as.numeric(temp)*d2[,\"number_cycles\"]*0.9\n",
    "        max_i=as.numeric(temp)*d2[,\"number_cycles\"]*1.1\n",
    "    }\n",
    "    else{\n",
    "         min_i=as.numeric(temp[0])\n",
    "         max_i=as.numeric(temp[1])\n",
    "        \n",
    "    }\n",
    "    if(as.numeric(as.character(d2[i,\"total_dose\"]))<min_i || as.numeric(as.character(d2[i,\"total_dose\"]))>max_i){\n",
    "        warnings(\"not in range\")\n",
    "    }\n",
    "}"
   ]
  },
  {
   "cell_type": "code",
   "execution_count": null,
   "metadata": {},
   "outputs": [],
   "source": []
  }
 ],
 "metadata": {
  "kernelspec": {
   "display_name": "R",
   "language": "R",
   "name": "ir"
  },
  "language_info": {
   "codemirror_mode": "r",
   "file_extension": ".r",
   "mimetype": "text/x-r-source",
   "name": "R",
   "pygments_lexer": "r",
   "version": "3.5.1"
  }
 },
 "nbformat": 4,
 "nbformat_minor": 2
}
